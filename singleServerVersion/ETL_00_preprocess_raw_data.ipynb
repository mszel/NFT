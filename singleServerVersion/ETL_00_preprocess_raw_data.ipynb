{
 "cells": [
  {
   "cell_type": "markdown",
   "metadata": {},
   "source": [
    "# ETL 00: Reading and Pre-processing NFT data (raw --> stage --> NDS)\n",
    "Reading the transaction file(s), and preprocess them for smaller tables. As the input file is huge, the following method is used:\n",
    " * ETL raw --> stage: split the big input table(s) into smaller, redundant pieces by topic (keeping columns only which needed for a table) and by rows (reading by million rows)\n",
    "   * The file is loaded in pieces (nrows, skiprows)\n",
    "   * Preprocessing is made on the loaded partial file (for all future tables: e.g. save all token-collection pairs)\n",
    " * ETL stage --> nds: The next layer (agregator) picks up these partial tables and adding them to the database (by topic, handling the duplications).\n",
    " * Cleaner/Archiver functions are also needed\n",
    "\n",
    "</br>\n",
    "A pyspark version will be also created, but this can be run even in a home PC (alternative solutions like dask will be explored as well)."
   ]
  },
  {
   "cell_type": "code",
   "execution_count": 2,
   "metadata": {},
   "outputs": [],
   "source": [
    "# loading ETL related libraries\n",
    "import pandas as pd\n",
    "import numpy as np\n",
    "\n",
    "# core libraries\n",
    "from datetime import datetime, timedelta\n",
    "import imp\n",
    "\n",
    "# OS related\n",
    "from os import listdir, makedirs, remove, path\n",
    "\n",
    "# parallel programming related\n",
    "from multiprocessing import Pool\n",
    "import subprocess\n",
    "\n",
    "# visualization related\n",
    "%matplotlib inline\n",
    "import matplotlib.pyplot as plt\n",
    "import seaborn as sns\n",
    "\n",
    "# settings\n",
    "pd.set_option('display.max_rows', 200)\n",
    "pd.set_option('display.max_columns', 50)\n",
    "\n",
    "# src loader functions, pathes, config values\n",
    "import src.config as cf\n",
    "import src.ETL_00_rawToStage as ers\n",
    "import src.ETL_01_stageToNDS as esn\n",
    "import src.ETL_02_analyticsDM as edm"
   ]
  },
  {
   "cell_type": "code",
   "execution_count": 64,
   "metadata": {},
   "outputs": [],
   "source": [
    "ers = imp.reload(ers)\n",
    "esn = imp.reload(esn)\n",
    "edm = imp.reload(edm)\n",
    "cf = imp.reload(cf)"
   ]
  },
  {
   "cell_type": "markdown",
   "metadata": {},
   "source": [
    "## Raw to Stage\n",
    "Loading the input file (and separate them to smaller tables). Inputs (stored in config file): \n",
    " * input_folder: the folder where the file(s) are stored\n",
    " * filename: the name of the file which should be read (if empty, reading all files from the folder)\n",
    " * batchsize: max read row number\n",
    " * njobs: # of processors for parallel computing\n",
    " * output_main_folder: the main folder where the output files are stored (output name convention is \"topic_sourcename_startrow_endrow.pickle\")\n",
    " * category_list: the list of considered categories (if empty, all categories are used)"
   ]
  },
  {
   "cell_type": "code",
   "execution_count": 21,
   "metadata": {},
   "outputs": [
    {
     "name": "stdout",
     "output_type": "stream",
     "text": [
      "233836 204848\n"
     ]
    }
   ],
   "source": [
    "# example run - only for a part of the input file (only for debugging/testing)\n",
    "\n",
    "_example_input = {'path': './data/00_raw/Data_API.csv', 'start_row': 4000000, 'to_read': 500000, \n",
    "                  'out_path_base': './data/01_stage/', 'categories': ['Art']}\n",
    "\n",
    "ers.ReadOneChunk(_example_input)\n",
    "pdf_test_trx = pd.read_pickle('./data/01_stage/trx/Data_API_4000000_500000.pickle')\n",
    "pdf_test_token = pd.read_pickle('./data/01_stage/token/Data_API_4000000_500000.pickle')\n",
    "\n",
    "print(pdf_test_trx.shape[0], pdf_test_token.shape[0])"
   ]
  },
  {
   "cell_type": "code",
   "execution_count": 22,
   "metadata": {},
   "outputs": [
    {
     "name": "stdout",
     "output_type": "stream",
     "text": [
      "[Wed 13:30:09] Data preprocessing started running (raw to stage)...\n",
      "[Wed 13:30:09] Planning the parallel execution...\n",
      "[Wed 13:30:33] Starting parallel execution...\n",
      "[Wed 13:34:00] Finished running...\n"
     ]
    }
   ],
   "source": [
    "# calling the parallel runner for all\n",
    "ers.ReadAllFiles_parallel(input_folder=cf.PATH_00RAW_API_input_folder, input_file=cf.PATH_00RAW_API_input_filename, \n",
    "                          batchsize=cf.PARAM_batchsize, category_list=cf.PARAM_categorylist, \n",
    "                          output_folder=cf.PATH_01STAGE_tmp_main, cln_flg=cf.PARAM_raw_cleanup, \n",
    "                          njobs=2, _verbose=True)"
   ]
  },
  {
   "cell_type": "code",
   "execution_count": 24,
   "metadata": {},
   "outputs": [
    {
     "name": "stdout",
     "output_type": "stream",
     "text": [
      "233836 204848\n",
      "https://lh3.googleusercontent.com/gocq_BBBapbj6JiAdjoy0i7vu6iV7nOvhtiW0DXxKvRlwe7AgYwABVzHJ-JwaHvapkr_kJEiXPt3pVm_5aj2s8rUVKHOsHx7TY15qQ=s128\n",
      "----------------------\n",
      "75 0\n"
     ]
    }
   ],
   "source": [
    "# testing some files (from the read ones)\n",
    "# basic centent test, and some ID tests\n",
    "\n",
    "pdf_test_trx = pd.read_pickle('./data/01_stage/trx/Data_API_4000000_500000.pickle')\n",
    "pdf_test_token = pd.read_pickle('./data/01_stage/token/Data_API_4000000_500000.pickle')\n",
    "\n",
    "print(pdf_test_trx.shape[0], pdf_test_token.shape[0])\n",
    "print(pdf_test_token.tail(42000).head(2).iloc[0].token_URL_latest)\n",
    "# print(pdf_test_token.token_crypto.value_counts())\n",
    "print(\"----------------------\")\n",
    "print(pdf_test_trx.trx_value_usd.isnull().sum(), pdf_test_trx.trx_value_crypto.isnull().sum())"
   ]
  },
  {
   "cell_type": "markdown",
   "metadata": {},
   "source": [
    "## Stage to NDS\n",
    "Processing the partial tables and create NDS tables. These will be the base of the DM analysis tables. 2 tables will be made:\n",
    " * a token master table: which contains a unified token table - separated file, by category\n",
    " * a transaction master table: which is splitted by yearmonth and category"
   ]
  },
  {
   "cell_type": "code",
   "execution_count": 40,
   "metadata": {},
   "outputs": [],
   "source": [
    "# testing the transaction writer\n",
    "# esn._addTrxToNDS(path_partial_file=cf.PATH_01STAGE_tmp_main + 'trx/Data_API_0_500000.pickle', path_output_main=cf.PATH_02NDS_main)\n",
    "# esn._addTrxToNDS(path_partial_file=cf.PATH_01STAGE_tmp_main + 'trx/Data_API_500000_500000.pickle', path_output_main=cf.PATH_02NDS_main)\n",
    "# pdf_transactions_chk = pd.read_pickle(cf.PATH_02NDS_main + 'transactions/art/trx_201712.pickle')\n",
    "# print(pdf_transactions_chk.shape[0])\n",
    "# pdf_transactions_chk.head(2)"
   ]
  },
  {
   "cell_type": "code",
   "execution_count": 41,
   "metadata": {},
   "outputs": [],
   "source": [
    "# testing the token writer\n",
    "# esn._addTokensToNDS(path_partial_file=cf.PATH_01STAGE_tmp_main + 'token/Data_API_0_500000.pickle', path_output_main=cf.PATH_02NDS_main)\n",
    "# esn._addTokensToNDS(path_partial_file=cf.PATH_01STAGE_tmp_main + 'token/Data_API_500000_500000.pickle', path_output_main=cf.PATH_02NDS_main)\n",
    "# pdf_tokens_chk = pd.read_pickle(cf.PATH_02NDS_main + 'tokens/token_master_art.pickle')\n",
    "# print(pdf_tokens_chk.shape[0])\n",
    "# print(pdf_tokens_chk.token_ID.value_counts().max())\n",
    "# pdf_tokens_chk.head(2)"
   ]
  },
  {
   "cell_type": "code",
   "execution_count": 61,
   "metadata": {},
   "outputs": [
    {
     "name": "stdout",
     "output_type": "stream",
     "text": [
      "[Wed 15:52:22] Transaction data loader started running (stage to NDS)...\n",
      "[Wed 15:52:37] Token master loader started running (stage to NDS)...\n",
      "[Wed 15:53:33] Finished running...\n"
     ]
    }
   ],
   "source": [
    "esn.stageToNDS(in_path_stage=cf.PATH_01STAGE_tmp_main, out_path_NDS=cf.PATH_02NDS_main, _verbose=True)"
   ]
  },
  {
   "cell_type": "code",
   "execution_count": 2,
   "metadata": {},
   "outputs": [
    {
     "data": {
      "text/html": [
       "<div>\n",
       "<style scoped>\n",
       "    .dataframe tbody tr th:only-of-type {\n",
       "        vertical-align: middle;\n",
       "    }\n",
       "\n",
       "    .dataframe tbody tr th {\n",
       "        vertical-align: top;\n",
       "    }\n",
       "\n",
       "    .dataframe thead th {\n",
       "        text-align: right;\n",
       "    }\n",
       "</style>\n",
       "<table border=\"1\" class=\"dataframe\">\n",
       "  <thead>\n",
       "    <tr style=\"text-align: right;\">\n",
       "      <th></th>\n",
       "      <th>collection_ID</th>\n",
       "      <th>token_ID</th>\n",
       "      <th>token_URL_latest</th>\n",
       "      <th>token_permanent_link</th>\n",
       "      <th>token_mint_crypto</th>\n",
       "      <th>token_mint_price_USD</th>\n",
       "      <th>token_mint_price_crypto</th>\n",
       "      <th>token_mint_address_est</th>\n",
       "      <th>token_mint_date_est</th>\n",
       "      <th>token_latest_sales_crypto</th>\n",
       "      <th>token_latest_sales_date</th>\n",
       "      <th>token_latest_price_USD</th>\n",
       "      <th>token_latest_price_crypto</th>\n",
       "      <th>token_collection_nm</th>\n",
       "      <th>token_name</th>\n",
       "      <th>token_description</th>\n",
       "      <th>token_category</th>\n",
       "      <th>token_ID_error</th>\n",
       "    </tr>\n",
       "  </thead>\n",
       "  <tbody>\n",
       "    <tr>\n",
       "      <th>0</th>\n",
       "      <td>Cryptokitties</td>\n",
       "      <td>Cryptokitties_1268119</td>\n",
       "      <td>https://lh3.googleusercontent.com/SWIgsdqj2cUc...</td>\n",
       "      <td>https://opensea.io/assets/0x06012c8cf97bead5de...</td>\n",
       "      <td>ETH</td>\n",
       "      <td>0.321473</td>\n",
       "      <td>0.001980</td>\n",
       "      <td>0xb367b96bd9af396dc5281cfdcd9e9571f670832f</td>\n",
       "      <td>2019-04-27 17:45:40</td>\n",
       "      <td>ETH</td>\n",
       "      <td>2021-04-12 17:25:55</td>\n",
       "      <td>19.363050</td>\n",
       "      <td>0.0090</td>\n",
       "      <td>Cryptokitties</td>\n",
       "      <td>I Miss You</td>\n",
       "      <td>Guten tag. I'm I Miss You, fairy princess of C...</td>\n",
       "      <td>Art</td>\n",
       "      <td>0</td>\n",
       "    </tr>\n",
       "    <tr>\n",
       "      <th>1</th>\n",
       "      <td>Cryptokitties</td>\n",
       "      <td>Cryptokitties_1434540</td>\n",
       "      <td>https://lh3.googleusercontent.com/7ILL0U1wFba7...</td>\n",
       "      <td>https://opensea.io/assets/0x06012c8cf97bead5de...</td>\n",
       "      <td>ETH</td>\n",
       "      <td>0.402917</td>\n",
       "      <td>0.001487</td>\n",
       "      <td>0xfc624f8f58db41bdb95aedee1de3c1cf047105f1</td>\n",
       "      <td>2019-03-10 03:11:34</td>\n",
       "      <td>WETH</td>\n",
       "      <td>2021-04-10 11:55:04</td>\n",
       "      <td>56.558319</td>\n",
       "      <td>0.0273</td>\n",
       "      <td>Cryptokitties</td>\n",
       "      <td>Lieutenant Bippitynose</td>\n",
       "      <td>Oh heyyy. I'm Lieutenant Bippitynose. Are you ...</td>\n",
       "      <td>Art</td>\n",
       "      <td>0</td>\n",
       "    </tr>\n",
       "  </tbody>\n",
       "</table>\n",
       "</div>"
      ],
      "text/plain": [
       "   collection_ID               token_ID  \\\n",
       "0  Cryptokitties  Cryptokitties_1268119   \n",
       "1  Cryptokitties  Cryptokitties_1434540   \n",
       "\n",
       "                                    token_URL_latest  \\\n",
       "0  https://lh3.googleusercontent.com/SWIgsdqj2cUc...   \n",
       "1  https://lh3.googleusercontent.com/7ILL0U1wFba7...   \n",
       "\n",
       "                                token_permanent_link token_mint_crypto  \\\n",
       "0  https://opensea.io/assets/0x06012c8cf97bead5de...               ETH   \n",
       "1  https://opensea.io/assets/0x06012c8cf97bead5de...               ETH   \n",
       "\n",
       "   token_mint_price_USD  token_mint_price_crypto  \\\n",
       "0              0.321473                 0.001980   \n",
       "1              0.402917                 0.001487   \n",
       "\n",
       "                       token_mint_address_est token_mint_date_est  \\\n",
       "0  0xb367b96bd9af396dc5281cfdcd9e9571f670832f 2019-04-27 17:45:40   \n",
       "1  0xfc624f8f58db41bdb95aedee1de3c1cf047105f1 2019-03-10 03:11:34   \n",
       "\n",
       "  token_latest_sales_crypto token_latest_sales_date  token_latest_price_USD  \\\n",
       "0                       ETH     2021-04-12 17:25:55               19.363050   \n",
       "1                      WETH     2021-04-10 11:55:04               56.558319   \n",
       "\n",
       "   token_latest_price_crypto token_collection_nm              token_name  \\\n",
       "0                     0.0090       Cryptokitties              I Miss You   \n",
       "1                     0.0273       Cryptokitties  Lieutenant Bippitynose   \n",
       "\n",
       "                                   token_description token_category  \\\n",
       "0  Guten tag. I'm I Miss You, fairy princess of C...            Art   \n",
       "1  Oh heyyy. I'm Lieutenant Bippitynose. Are you ...            Art   \n",
       "\n",
       "   token_ID_error  \n",
       "0               0  \n",
       "1               0  "
      ]
     },
     "execution_count": 2,
     "metadata": {},
     "output_type": "execute_result"
    }
   ],
   "source": [
    "pdf_nft_master = pd.read_pickle(cf.PATH_02NDS_main + '/tokens/token_master_art.pickle')\n",
    "pdf_nft_master.head(2)"
   ]
  },
  {
   "cell_type": "markdown",
   "metadata": {},
   "source": [
    "## Run Data Cleansing\n",
    "Clean the transactions from duplications (mark them, the DM loaders will not read the duplicated records)."
   ]
  },
  {
   "cell_type": "code",
   "execution_count": 16,
   "metadata": {},
   "outputs": [
    {
     "name": "stdout",
     "output_type": "stream",
     "text": [
      "[Sun 12:37:10] Started Running Cleaner...\n",
      "[Sun 12:38:13] Finished Running Cleaner...\n"
     ]
    }
   ],
   "source": [
    "edm = imp.reload(edm)\n",
    "esn.log(\"Started Running Cleaner...\")\n",
    "edm.TrxDuplicationMarker(cf.PATH_02NDS_main + 'transactions/art/')\n",
    "esn.log(\"Finished Running Cleaner...\")"
   ]
  },
  {
   "cell_type": "code",
   "execution_count": 17,
   "metadata": {},
   "outputs": [
    {
     "data": {
      "text/html": [
       "<div>\n",
       "<style scoped>\n",
       "    .dataframe tbody tr th:only-of-type {\n",
       "        vertical-align: middle;\n",
       "    }\n",
       "\n",
       "    .dataframe tbody tr th {\n",
       "        vertical-align: top;\n",
       "    }\n",
       "\n",
       "    .dataframe thead th {\n",
       "        text-align: right;\n",
       "    }\n",
       "</style>\n",
       "<table border=\"1\" class=\"dataframe\">\n",
       "  <thead>\n",
       "    <tr style=\"text-align: right;\">\n",
       "      <th></th>\n",
       "      <th>Market_ID</th>\n",
       "      <th>collection_ID</th>\n",
       "      <th>token_ID</th>\n",
       "      <th>token_category</th>\n",
       "      <th>trx_time_sec</th>\n",
       "      <th>trx_seller_address</th>\n",
       "      <th>trx_buyer_address</th>\n",
       "      <th>trx_crypto</th>\n",
       "      <th>trx_value_crypto</th>\n",
       "      <th>trx_value_usd</th>\n",
       "      <th>trx_duplication_flg</th>\n",
       "    </tr>\n",
       "  </thead>\n",
       "  <tbody>\n",
       "    <tr>\n",
       "      <th>358160</th>\n",
       "      <td>Cryptokitties</td>\n",
       "      <td>Cryptokitties</td>\n",
       "      <td>Cryptokitties_597444</td>\n",
       "      <td>Art</td>\n",
       "      <td>2018-03-09 01:42:53</td>\n",
       "      <td>0x77cd1ae1559b5357392a8ec4870cdd92a827815e</td>\n",
       "      <td>0xe97c9fd7eb06fae12b69661a1d6379cefad16268</td>\n",
       "      <td>ETH</td>\n",
       "      <td>0.069989</td>\n",
       "      <td>49.918648</td>\n",
       "      <td>0</td>\n",
       "    </tr>\n",
       "    <tr>\n",
       "      <th>358161</th>\n",
       "      <td>OpenSea</td>\n",
       "      <td>Cryptokitties</td>\n",
       "      <td>Cryptokitties_597444</td>\n",
       "      <td>Art</td>\n",
       "      <td>2018-03-10 02:01:23</td>\n",
       "      <td>0x77cd1ae1559b5357392a8ec4870cdd92a827815e</td>\n",
       "      <td>0xe97c9fd7eb06fae12b69661a1d6379cefad16268</td>\n",
       "      <td>ETH</td>\n",
       "      <td>0.069989</td>\n",
       "      <td>49.918648</td>\n",
       "      <td>1</td>\n",
       "    </tr>\n",
       "  </tbody>\n",
       "</table>\n",
       "</div>"
      ],
      "text/plain": [
       "            Market_ID  collection_ID              token_ID token_category  \\\n",
       "358160  Cryptokitties  Cryptokitties  Cryptokitties_597444            Art   \n",
       "358161        OpenSea  Cryptokitties  Cryptokitties_597444            Art   \n",
       "\n",
       "              trx_time_sec                          trx_seller_address  \\\n",
       "358160 2018-03-09 01:42:53  0x77cd1ae1559b5357392a8ec4870cdd92a827815e   \n",
       "358161 2018-03-10 02:01:23  0x77cd1ae1559b5357392a8ec4870cdd92a827815e   \n",
       "\n",
       "                                 trx_buyer_address trx_crypto  \\\n",
       "358160  0xe97c9fd7eb06fae12b69661a1d6379cefad16268        ETH   \n",
       "358161  0xe97c9fd7eb06fae12b69661a1d6379cefad16268        ETH   \n",
       "\n",
       "        trx_value_crypto  trx_value_usd  trx_duplication_flg  \n",
       "358160          0.069989      49.918648                    0  \n",
       "358161          0.069989      49.918648                    1  "
      ]
     },
     "execution_count": 17,
     "metadata": {},
     "output_type": "execute_result"
    }
   ],
   "source": [
    "# checking the results with an example\n",
    "pdf_chk = edm._readTrx_betweenMonats(cf.PATH_02NDS_main + 'transactions/art/', load_max_intmonat=201803)\n",
    "pdf_chk[pdf_chk.token_ID == 'Cryptokitties_597444']"
   ]
  },
  {
   "cell_type": "code",
   "execution_count": 45,
   "metadata": {},
   "outputs": [],
   "source": [
    "# pdf_chk.trx_time_sec.dt.date"
   ]
  },
  {
   "cell_type": "markdown",
   "metadata": {},
   "source": [
    "## Processing DM tables\n",
    "Create tables for analysis. It creates 3 layers of tables. \n",
    " * A temporary layer with a few base tables, which makes the DM load faster (e.g. token - user monthly snapshots)\n",
    " * DM tables about different topics: contains tables which could be the basics of analysis and simulation, and reports (like traders' monthly positions, collection time serier, etc.)\n",
    " * ABT's which can be the base of the models and NFT-trading strategy simulations. These will have 2 main loader modes: the \"test_strategy\" method creates all tables up to a date, and record (where possible) the transactions/prices from the next x months. This can be used for training models and for trying out strategies. The \"scoring\" mode creates all tables up to a date (preferably \"today\")."
   ]
  },
  {
   "cell_type": "markdown",
   "metadata": {},
   "source": [
    "### Temporary layer\n",
    "Contains tables which are not used for analysis, but which are the common base of the more complex DM tables. Most of them are not necessary in the pyspark mode.\n",
    "</br></br>\n",
    "**Note**: There are tokens which exist in multiple pieces - and also, some transactions sells many of them. These are not really NFTs, and the current data cannot handle them well. We will mark them, and some of them will be excluded from the transactions. Example [here](https://opensea.io/assets/0xd07dc4262bcdbf85190c01c996b4c06a461d2430/37408). Later on, we will download this feature as well (when using own API caller)."
   ]
  },
  {
   "cell_type": "markdown",
   "metadata": {},
   "source": [
    "#### NFTU - User Table"
   ]
  },
  {
   "cell_type": "code",
   "execution_count": 95,
   "metadata": {},
   "outputs": [],
   "source": [
    "# tester - part 1: first run\n",
    "\n",
    "# edm._tempL_NFT_User_pairs_mthly(cf.PATH_02NDS_main + 'transactions/art/', cf.PATH_03DM_01tempL + 'nftu/art/', 201711) # first month\n",
    "# tmp_chk = pd.read_pickle(cf.PATH_03DM_01tempL + 'art/nftu/nftuser_201711.pickle')\n",
    "# print(tmp_chk.shape[0], tmp_chk.nftu_hold_flg.value_counts().sum(), \n",
    "#       tmp_chk.nftu_mint_flg.sum() / tmp_chk.nftu_sell_cnt.sum(), \n",
    "#       tmp_chk.nftu_hold_flg.sum() / tmp_chk.shape[0])\n",
    "# tmp_chk.head(2)"
   ]
  },
  {
   "cell_type": "code",
   "execution_count": 96,
   "metadata": {},
   "outputs": [],
   "source": [
    "# tester - part 2: a few appends\n",
    "\n",
    "# edm._tempL_NFT_User_pairs_mthly(cf.PATH_02NDS_main + 'transactions/art/', cf.PATH_03DM_01tempL + 'nftu/art/', 201712)\n",
    "# edm._tempL_NFT_User_pairs_mthly(cf.PATH_02NDS_main + 'transactions/art/', cf.PATH_03DM_01tempL + 'nftu/art/', 201801)\n",
    "# edm._tempL_NFT_User_pairs_mthly(cf.PATH_02NDS_main + 'transactions/art/', cf.PATH_03DM_01tempL + 'nftu/art/', 201802)\n",
    "# tmp_chk = pd.read_pickle(cf.PATH_03DM_01tempL + 'art/nftu/nftuser_201802.pickle')\n",
    "# print(tmp_chk.shape[0], tmp_chk.nftu_hold_flg.value_counts().sum(), \n",
    "#       tmp_chk.nftu_mint_flg.sum() / tmp_chk.nftu_sell_cnt.sum(), \n",
    "#       tmp_chk.nftu_hold_flg.sum() / tmp_chk.shape[0])\n",
    "# tmp_chk.head(2)"
   ]
  },
  {
   "cell_type": "code",
   "execution_count": 18,
   "metadata": {},
   "outputs": [
    {
     "name": "stdout",
     "output_type": "stream",
     "text": [
      "[Sun 12:41:18] NFT - User Montly Pair Table started running ...\n",
      "[Sun 12:41:18] Running 42 month(s) from 201711 to 202104\n",
      "[Sun 12:42:53] NFT - User Montly Pair Table finished running ...\n"
     ]
    }
   ],
   "source": [
    "# Run the full layer, and read the latest table\n",
    "edm.NFTUserPairs_runner(trx_folder_in=cf.PATH_02NDS_main + 'transactions/art/', \n",
    "                        nftu_folder_out=cf.PATH_03DM_01tempL + 'nftu/art/', _verbose=True)"
   ]
  },
  {
   "cell_type": "code",
   "execution_count": 19,
   "metadata": {},
   "outputs": [
    {
     "name": "stdout",
     "output_type": "stream",
     "text": [
      "900752 900752 0.4103815948870045 0.8938853313675684 763938\n"
     ]
    },
    {
     "data": {
      "text/html": [
       "<div>\n",
       "<style scoped>\n",
       "    .dataframe tbody tr th:only-of-type {\n",
       "        vertical-align: middle;\n",
       "    }\n",
       "\n",
       "    .dataframe tbody tr th {\n",
       "        vertical-align: top;\n",
       "    }\n",
       "\n",
       "    .dataframe thead th {\n",
       "        text-align: right;\n",
       "    }\n",
       "</style>\n",
       "<table border=\"1\" class=\"dataframe\">\n",
       "  <thead>\n",
       "    <tr style=\"text-align: right;\">\n",
       "      <th></th>\n",
       "      <th>token_category</th>\n",
       "      <th>collection_ID</th>\n",
       "      <th>token_ID</th>\n",
       "      <th>trader_ID</th>\n",
       "      <th>nftu_hold_flg</th>\n",
       "      <th>nftu_sell_date_latest</th>\n",
       "      <th>nftu_sell_cnt</th>\n",
       "      <th>nftu_sell_amt_usd_sum</th>\n",
       "      <th>nftu_sell_price_usd_latest</th>\n",
       "      <th>nftu_buy_date_latest</th>\n",
       "      <th>nftu_buy_price_usd_latest</th>\n",
       "      <th>nftu_buy_cnt</th>\n",
       "      <th>nftu_buy_amt_usd_sum</th>\n",
       "      <th>nftu_mint_flg</th>\n",
       "      <th>nftu_mint_usd</th>\n",
       "    </tr>\n",
       "  </thead>\n",
       "  <tbody>\n",
       "    <tr>\n",
       "      <th>730627</th>\n",
       "      <td>Art</td>\n",
       "      <td>0xmons-xyz</td>\n",
       "      <td>0xmons-xyz_103</td>\n",
       "      <td>0xf24a0018befb3d7503b46c110f83d927d64e727d</td>\n",
       "      <td>0.0</td>\n",
       "      <td>2021-03-14 10:15:27</td>\n",
       "      <td>2.0</td>\n",
       "      <td>22617.539062</td>\n",
       "      <td>11308.769531</td>\n",
       "      <td>NaT</td>\n",
       "      <td>NaN</td>\n",
       "      <td>0.0</td>\n",
       "      <td>0.0</td>\n",
       "      <td>1.0</td>\n",
       "      <td>11308.769531</td>\n",
       "    </tr>\n",
       "    <tr>\n",
       "      <th>730628</th>\n",
       "      <td>Art</td>\n",
       "      <td>0xmons-xyz</td>\n",
       "      <td>0xmons-xyz_112</td>\n",
       "      <td>0xfaa65d761876e51328a58a0f12f3bb193d79b858</td>\n",
       "      <td>0.0</td>\n",
       "      <td>2021-03-04 06:55:54</td>\n",
       "      <td>2.0</td>\n",
       "      <td>20508.511719</td>\n",
       "      <td>10254.255859</td>\n",
       "      <td>NaT</td>\n",
       "      <td>NaN</td>\n",
       "      <td>0.0</td>\n",
       "      <td>0.0</td>\n",
       "      <td>1.0</td>\n",
       "      <td>10254.255859</td>\n",
       "    </tr>\n",
       "  </tbody>\n",
       "</table>\n",
       "</div>"
      ],
      "text/plain": [
       "       token_category collection_ID        token_ID  \\\n",
       "730627            Art    0xmons-xyz  0xmons-xyz_103   \n",
       "730628            Art    0xmons-xyz  0xmons-xyz_112   \n",
       "\n",
       "                                         trader_ID  nftu_hold_flg  \\\n",
       "730627  0xf24a0018befb3d7503b46c110f83d927d64e727d            0.0   \n",
       "730628  0xfaa65d761876e51328a58a0f12f3bb193d79b858            0.0   \n",
       "\n",
       "       nftu_sell_date_latest  nftu_sell_cnt  nftu_sell_amt_usd_sum  \\\n",
       "730627   2021-03-14 10:15:27            2.0           22617.539062   \n",
       "730628   2021-03-04 06:55:54            2.0           20508.511719   \n",
       "\n",
       "        nftu_sell_price_usd_latest nftu_buy_date_latest  \\\n",
       "730627                11308.769531                  NaT   \n",
       "730628                10254.255859                  NaT   \n",
       "\n",
       "        nftu_buy_price_usd_latest  nftu_buy_cnt  nftu_buy_amt_usd_sum  \\\n",
       "730627                        NaN           0.0                   0.0   \n",
       "730628                        NaN           0.0                   0.0   \n",
       "\n",
       "        nftu_mint_flg  nftu_mint_usd  \n",
       "730627            1.0   11308.769531  \n",
       "730628            1.0   10254.255859  "
      ]
     },
     "execution_count": 19,
     "metadata": {},
     "output_type": "execute_result"
    }
   ],
   "source": [
    "tmp_chk = pd.read_pickle(cf.PATH_03DM_01tempL + 'nftu/art/nftuser_202103.pickle')\n",
    "print(tmp_chk.shape[0], tmp_chk.nftu_hold_flg.value_counts().sum(), \n",
    "      tmp_chk.nftu_mint_flg.sum() / tmp_chk.nftu_sell_cnt.sum(), \n",
    "      tmp_chk.nftu_hold_flg.sum() / tmp_chk.shape[0], \n",
    "      tmp_chk.token_ID.nunique())\n",
    "tmp_chk[tmp_chk.nftu_mint_flg == 1].head(2)"
   ]
  },
  {
   "cell_type": "markdown",
   "metadata": {},
   "source": [
    "Tests, problems to solve:\n",
    " * **Problem**: In many cases, in one month, 1 trader sells the same token several times. **Solution**: there are NFTs, which has several (up to 100k) tokens, so one can sell several.\n",
    " * **Problem**: Too many mints, comparing to unique sells (100k sells, 80k mint - only 20 is normal). **Solution**: probably this is the reality, most of the tokens are only sold once - and the table keeps the trader-NFT pairs, and loading it from the previous month if there were no sales..."
   ]
  },
  {
   "cell_type": "code",
   "execution_count": 106,
   "metadata": {},
   "outputs": [
    {
     "data": {
      "text/plain": [
       "817708"
      ]
     },
     "execution_count": 106,
     "metadata": {},
     "output_type": "execute_result"
    }
   ],
   "source": [
    "# tmp_chk[tmp_chk.nftu_sell_cnt > 0].shape[0]\n",
    "# tmp_chk.nftu_sell_cnt.value_counts()\n",
    "# tmp_chk[tmp_chk.nftu_sell_cnt == 5].head(2)"
   ]
  },
  {
   "cell_type": "markdown",
   "metadata": {},
   "source": [
    "#### NFT KPI base table"
   ]
  },
  {
   "cell_type": "code",
   "execution_count": 28,
   "metadata": {},
   "outputs": [],
   "source": [
    "# tester - part 1: first run\n",
    "\n",
    "# edm._tempL_NFT_mthly(pathfolder_trx=cf.PATH_02NDS_main + 'transactions/art/', \n",
    "#                      pathfolder_nftuser=cf.PATH_03DM_01tempL + 'nftu/art/', \n",
    "#                      pathfolder_nft=cf.PATH_02NDS_main + 'tokens/', \n",
    "#                      pathfolder_nftkpi=cf.PATH_03DM_01tempL + 'nftkpi/art/', actmonat=201711, _tokcat='Art')\n",
    "\n",
    "# tmp_chk = pd.read_pickle(cf.PATH_03DM_01tempL + 'nftkpi/art/nftkpi_201711.pickle')\n",
    "\n",
    "# print(tmp_chk.shape[0], tmp_chk.nftkpi_mint_trx_cnt_csum.max(), tmp_chk.nftkpi_token_trx_cnt_csum.max(), \n",
    "#       tmp_chk.nftkpi_token_parallel_own_max.max(), tmp_chk.nftkpi_coll_trx_cnt_csum.max(), \n",
    "#       tmp_chk[tmp_chk.nftkpi_inmonth_trx_flg == 1].shape[0])\n",
    "# tmp_chk.head(2)"
   ]
  },
  {
   "cell_type": "code",
   "execution_count": 29,
   "metadata": {},
   "outputs": [],
   "source": [
    "# tester - part 2: next months\n",
    "\n",
    "# edm._tempL_NFT_mthly(pathfolder_trx=cf.PATH_02NDS_main + 'transactions/art/', \n",
    "#                      pathfolder_nftuser=cf.PATH_03DM_01tempL + 'nftu/art/', \n",
    "#                      pathfolder_nft=cf.PATH_02NDS_main + 'tokens/', \n",
    "#                      pathfolder_nftkpi=cf.PATH_03DM_01tempL + 'nftkpi/art/', actmonat=201712, _tokcat='Art')\n",
    "\n",
    "# edm._tempL_NFT_mthly(pathfolder_trx=cf.PATH_02NDS_main + 'transactions/art/', \n",
    "#                      pathfolder_nftuser=cf.PATH_03DM_01tempL + 'nftu/art/', \n",
    "#                      pathfolder_nft=cf.PATH_02NDS_main + 'tokens/', \n",
    "#                      pathfolder_nftkpi=cf.PATH_03DM_01tempL + 'nftkpi/art/', actmonat=201801, _tokcat='Art')\n",
    "\n",
    "# tmp_chk2 = pd.read_pickle(cf.PATH_03DM_01tempL + 'nftkpi/art/nftkpi_201801.pickle')\n",
    "\n",
    "# print(tmp_chk2.shape[0], tmp_chk2.nftkpi_mint_trx_cnt_csum.max(), tmp_chk2.nftkpi_token_trx_cnt_csum.max(), \n",
    "#       tmp_chk2.nftkpi_token_parallel_own_max.max(), tmp_chk2.nftkpi_coll_trx_cnt_csum.max(), \n",
    "#       tmp_chk2[tmp_chk2.nftkpi_inmonth_trx_flg == 1].shape[0])\n",
    "# tmp_chk2.head(2)"
   ]
  },
  {
   "cell_type": "code",
   "execution_count": 20,
   "metadata": {},
   "outputs": [
    {
     "name": "stdout",
     "output_type": "stream",
     "text": [
      "[Sun 13:00:31] NFT - NFT KPI monthly loader started running ...\n",
      "[Sun 13:00:31] Art category is running 42 month(s) from 201711 to 202104\n",
      "[Sun 13:09:09] NFT - User Montly Pair Table finished running ...\n"
     ]
    }
   ],
   "source": [
    "# Run the full layer, and read the latest table\n",
    "edm.NFTKPI_runner(trx_folder=cf.PATH_02NDS_main + 'transactions/', \n",
    "                  nftu_folder=cf.PATH_03DM_01tempL + 'nftu/', nftkpi_folder=cf.PATH_03DM_01tempL + 'nftkpi/', \n",
    "                  nftfolder=cf.PATH_02NDS_main + 'tokens/', tokencats=['Art'], load_interval_intmonat=[], \n",
    "                  _verbose=True)"
   ]
  },
  {
   "cell_type": "code",
   "execution_count": 21,
   "metadata": {},
   "outputs": [
    {
     "name": "stdout",
     "output_type": "stream",
     "text": [
      "794894 41088.0 658.0 474.0 863240.0 97104\n"
     ]
    },
    {
     "data": {
      "text/html": [
       "<div>\n",
       "<style scoped>\n",
       "    .dataframe tbody tr th:only-of-type {\n",
       "        vertical-align: middle;\n",
       "    }\n",
       "\n",
       "    .dataframe tbody tr th {\n",
       "        vertical-align: top;\n",
       "    }\n",
       "\n",
       "    .dataframe thead th {\n",
       "        text-align: right;\n",
       "    }\n",
       "</style>\n",
       "<table border=\"1\" class=\"dataframe\">\n",
       "  <thead>\n",
       "    <tr style=\"text-align: right;\">\n",
       "      <th></th>\n",
       "      <th>token_category</th>\n",
       "      <th>collection_ID</th>\n",
       "      <th>token_ID</th>\n",
       "      <th>token_mint_address_est</th>\n",
       "      <th>nftkpi_datetime_stamp</th>\n",
       "      <th>nftkpi_token_trx_cnt_csum</th>\n",
       "      <th>nftkpi_token_trx_usd_csum</th>\n",
       "      <th>nftkpi_token_parallel_own_max</th>\n",
       "      <th>trx_value_usd</th>\n",
       "      <th>trx_cnt</th>\n",
       "      <th>token_tenure_days</th>\n",
       "      <th>nftkpi_coll_trx_cnt_csum</th>\n",
       "      <th>nftkpi_coll_trx_usd_csum</th>\n",
       "      <th>nftkpi_mint_trx_cnt_csum</th>\n",
       "      <th>nftkpi_mint_trx_usd_csum</th>\n",
       "      <th>nftkpi_inmonth_trx_flg</th>\n",
       "    </tr>\n",
       "  </thead>\n",
       "  <tbody>\n",
       "    <tr>\n",
       "      <th>0</th>\n",
       "      <td>Art</td>\n",
       "      <td>0xmons-xyz</td>\n",
       "      <td>0xmons-xyz_101</td>\n",
       "      <td>0x6f6101686f5b5c33bb5aac1d9185c9a0ccbdb3cf</td>\n",
       "      <td>2021-02-26 21:11:09</td>\n",
       "      <td>1.0</td>\n",
       "      <td>17781.839844</td>\n",
       "      <td>1.0</td>\n",
       "      <td>17781.839844</td>\n",
       "      <td>1</td>\n",
       "      <td>0</td>\n",
       "      <td>29.0</td>\n",
       "      <td>213976.906250</td>\n",
       "      <td>2.0</td>\n",
       "      <td>25512.320312</td>\n",
       "      <td>0</td>\n",
       "    </tr>\n",
       "    <tr>\n",
       "      <th>1</th>\n",
       "      <td>Art</td>\n",
       "      <td>0xmons-xyz</td>\n",
       "      <td>0xmons-xyz_107</td>\n",
       "      <td>0xefe366e42f6e2684ef608581f7b743b0fb8d64d2</td>\n",
       "      <td>2021-02-23 04:56:43</td>\n",
       "      <td>1.0</td>\n",
       "      <td>7933.660156</td>\n",
       "      <td>1.0</td>\n",
       "      <td>7933.660156</td>\n",
       "      <td>1</td>\n",
       "      <td>0</td>\n",
       "      <td>26.0</td>\n",
       "      <td>177101.359375</td>\n",
       "      <td>2.0</td>\n",
       "      <td>16574.281250</td>\n",
       "      <td>0</td>\n",
       "    </tr>\n",
       "  </tbody>\n",
       "</table>\n",
       "</div>"
      ],
      "text/plain": [
       "  token_category collection_ID        token_ID  \\\n",
       "0            Art    0xmons-xyz  0xmons-xyz_101   \n",
       "1            Art    0xmons-xyz  0xmons-xyz_107   \n",
       "\n",
       "                       token_mint_address_est nftkpi_datetime_stamp  \\\n",
       "0  0x6f6101686f5b5c33bb5aac1d9185c9a0ccbdb3cf   2021-02-26 21:11:09   \n",
       "1  0xefe366e42f6e2684ef608581f7b743b0fb8d64d2   2021-02-23 04:56:43   \n",
       "\n",
       "   nftkpi_token_trx_cnt_csum  nftkpi_token_trx_usd_csum  \\\n",
       "0                        1.0               17781.839844   \n",
       "1                        1.0                7933.660156   \n",
       "\n",
       "   nftkpi_token_parallel_own_max  trx_value_usd  trx_cnt  token_tenure_days  \\\n",
       "0                            1.0   17781.839844        1                  0   \n",
       "1                            1.0    7933.660156        1                  0   \n",
       "\n",
       "   nftkpi_coll_trx_cnt_csum  nftkpi_coll_trx_usd_csum  \\\n",
       "0                      29.0             213976.906250   \n",
       "1                      26.0             177101.359375   \n",
       "\n",
       "   nftkpi_mint_trx_cnt_csum  nftkpi_mint_trx_usd_csum  nftkpi_inmonth_trx_flg  \n",
       "0                       2.0              25512.320312                       0  \n",
       "1                       2.0              16574.281250                       0  "
      ]
     },
     "execution_count": 21,
     "metadata": {},
     "output_type": "execute_result"
    }
   ],
   "source": [
    "tmp_chk = pd.read_pickle(cf.PATH_03DM_01tempL + 'nftkpi/art/nftkpi_202103.pickle')\n",
    "print(tmp_chk.shape[0], tmp_chk.nftkpi_mint_trx_cnt_csum.max(), tmp_chk.nftkpi_token_trx_cnt_csum.max(), \n",
    "      tmp_chk.nftkpi_token_parallel_own_max.max(), tmp_chk.nftkpi_coll_trx_cnt_csum.max(), \n",
    "      tmp_chk[tmp_chk.nftkpi_inmonth_trx_flg == 1].shape[0])\n",
    "tmp_chk.head(2)"
   ]
  },
  {
   "cell_type": "markdown",
   "metadata": {},
   "source": [
    "### DM layer\n",
    "These tables can be used for exploration and reports directly (or joined), and could be base for the ML/graph models. The following DM tables are made:\n",
    " * NFT - Trader graph base table\n",
    " * Transactional base table\n",
    " * Trader's KPI (by time)\n",
    " * Minter's KPI (by time)\n",
    " * Collection's time series\n",
    " * Minter's time series\n",
    " * ..."
   ]
  },
  {
   "cell_type": "markdown",
   "metadata": {},
   "source": [
    "#### Collection Time Series\n",
    "This monthly partitioned table contains the most important KPIs for each collection, for each day."
   ]
  },
  {
   "cell_type": "code",
   "execution_count": 46,
   "metadata": {},
   "outputs": [],
   "source": [
    "edm = imp.reload(edm)\n",
    "# edm._monatToDateList(201802)"
   ]
  },
  {
   "cell_type": "code",
   "execution_count": 41,
   "metadata": {},
   "outputs": [],
   "source": [
    "# tester - part 1: first run\n",
    "\n",
    "# edm._DML_collectionTimeSeries(pathfolder_nftkpi=cf.PATH_03DM_01tempL + 'nftkpi/art/', \n",
    "#                               pathfolder_trx=cf.PATH_02NDS_main + 'transactions/art/', \n",
    "#                               pathfolder_colldistuser=cf.PATH_03DM_01tempL + 'colldistowner/art/',\n",
    "#                               pathfolder_collection_ts=cf.PATH_03DM_main + 'collection_ts/art/',\n",
    "#                               actmonat=201711, malist=[7, 14, 28], _estcalc=False)\n",
    "\n",
    "# tmp_chk = pd.read_pickle(cf.PATH_03DM_main + 'collection_ts/art/coll_ts_201711.pickle')\n",
    "\n",
    "# print(tmp_chk.shape[0])\n",
    "# tmp_chk.head(2)"
   ]
  },
  {
   "cell_type": "code",
   "execution_count": 40,
   "metadata": {},
   "outputs": [],
   "source": [
    "# tester - part 1: additional months\n",
    "\n",
    "# edm._DML_collectionTimeSeries(pathfolder_nftkpi=cf.PATH_03DM_01tempL + 'nftkpi/art/', \n",
    "#                               pathfolder_trx=cf.PATH_02NDS_main + 'transactions/art/', \n",
    "#                               pathfolder_colldistuser=cf.PATH_03DM_01tempL + 'colldistowner/art/',\n",
    "#                               pathfolder_collection_ts=cf.PATH_03DM_main + 'collection_ts/art/',\n",
    "#                               actmonat=201712, malist=[7, 14, 28], _estcalc=False)\n",
    "# edm._DML_collectionTimeSeries(pathfolder_nftkpi=cf.PATH_03DM_01tempL + 'nftkpi/art/', \n",
    "#                               pathfolder_trx=cf.PATH_02NDS_main + 'transactions/art/', \n",
    "#                               pathfolder_colldistuser=cf.PATH_03DM_01tempL + 'colldistowner/art/',\n",
    "#                               pathfolder_collection_ts=cf.PATH_03DM_main + 'collection_ts/art/',\n",
    "#                               actmonat=201801, malist=[7, 14, 28], _estcalc=False)\n",
    "\n",
    "# tmp_chk = pd.read_pickle(cf.PATH_03DM_main + 'collection_ts/art/coll_ts_201711.pickle').append(\n",
    "#     pd.read_pickle(cf.PATH_03DM_main + 'collection_ts/art/coll_ts_201712.pickle')).append(\n",
    "#         pd.read_pickle(cf.PATH_03DM_main + 'collection_ts/art/coll_ts_201801.pickle'))\n",
    "\n",
    "# print(tmp_chk.shape[0])\n",
    "# tmp_chk.sort_values(by=['collection_ID', 'token_category', 'report_dt'])\n",
    "# tmp_chk.head(2)"
   ]
  },
  {
   "cell_type": "code",
   "execution_count": 48,
   "metadata": {},
   "outputs": [],
   "source": [
    "# Run the full layer, and read the latest table\n",
    "edm.collection_ts_runner(trx_folder=cf.PATH_02NDS_main + 'transactions/', \n",
    "                         nftkpi_folder=cf.PATH_03DM_01tempL + 'nftkpi/', \n",
    "                         colldistu_folder=cf.PATH_03DM_01tempL + 'colldistowner/', \n",
    "                         collts_folder=cf.PATH_03DM_main + 'collection_ts/', \n",
    "                         tokencats=['Art'], load_interval_intmonat=[], malist=[7, 14, 28], _estcalc=False, \n",
    "                         _verbose=True)"
   ]
  },
  {
   "cell_type": "code",
   "execution_count": 49,
   "metadata": {},
   "outputs": [
    {
     "data": {
      "text/html": [
       "<div>\n",
       "<style scoped>\n",
       "    .dataframe tbody tr th:only-of-type {\n",
       "        vertical-align: middle;\n",
       "    }\n",
       "\n",
       "    .dataframe tbody tr th {\n",
       "        vertical-align: top;\n",
       "    }\n",
       "\n",
       "    .dataframe thead th {\n",
       "        text-align: right;\n",
       "    }\n",
       "</style>\n",
       "<table border=\"1\" class=\"dataframe\">\n",
       "  <thead>\n",
       "    <tr style=\"text-align: right;\">\n",
       "      <th></th>\n",
       "      <th>token_category</th>\n",
       "      <th>collection_ID</th>\n",
       "      <th>report_dt</th>\n",
       "      <th>coll_owner_cumdcnt</th>\n",
       "      <th>coll_token_dcnt</th>\n",
       "      <th>coll_token_sum_usd</th>\n",
       "      <th>coll_token_avg_latest_val_usd</th>\n",
       "      <th>coll_token_avg_latest_trx_day</th>\n",
       "      <th>coll_trx_maxval_usd_max</th>\n",
       "      <th>coll_trx_usd_csum_max</th>\n",
       "      <th>coll_trx_cnt_csum_max</th>\n",
       "      <th>coll_trx_cnt_dly_sum</th>\n",
       "      <th>coll_trx_usd_dly_sum</th>\n",
       "      <th>coll_avg_price_dly</th>\n",
       "      <th>coll_avg_price_dly_ma7</th>\n",
       "      <th>coll_avg_price_dly_ma14</th>\n",
       "      <th>coll_avg_price_dly_ma28</th>\n",
       "      <th>coll_trx_cnt_dly_ma7_sum</th>\n",
       "      <th>coll_trx_usd_dly_ma7_sum</th>\n",
       "      <th>coll_trx_usd_dly_ma7_min</th>\n",
       "      <th>coll_trx_usd_dly_ma7_max</th>\n",
       "      <th>coll_trx_usd_dly_ma7_std</th>\n",
       "      <th>coll_trx_usd_dly_ma7_p25</th>\n",
       "      <th>coll_trx_usd_dly_ma7_p75</th>\n",
       "      <th>coll_trx_cnt_dly_ma14_sum</th>\n",
       "      <th>coll_trx_usd_dly_ma14_sum</th>\n",
       "      <th>coll_trx_usd_dly_ma14_min</th>\n",
       "      <th>coll_trx_usd_dly_ma14_max</th>\n",
       "      <th>coll_trx_usd_dly_ma14_std</th>\n",
       "      <th>coll_trx_usd_dly_ma14_p25</th>\n",
       "      <th>coll_trx_usd_dly_ma14_p75</th>\n",
       "      <th>coll_trx_cnt_dly_ma28_sum</th>\n",
       "      <th>coll_trx_usd_dly_ma28_sum</th>\n",
       "      <th>coll_trx_usd_dly_ma28_min</th>\n",
       "      <th>coll_trx_usd_dly_ma28_max</th>\n",
       "      <th>coll_trx_usd_dly_ma28_std</th>\n",
       "      <th>coll_trx_usd_dly_ma28_p25</th>\n",
       "      <th>coll_trx_usd_dly_ma28_p75</th>\n",
       "    </tr>\n",
       "  </thead>\n",
       "  <tbody>\n",
       "    <tr>\n",
       "      <th>0</th>\n",
       "      <td>Art</td>\n",
       "      <td>0xmons-xyz</td>\n",
       "      <td>2021-03-01</td>\n",
       "      <td>35.0</td>\n",
       "      <td>30.0</td>\n",
       "      <td>247568.171875</td>\n",
       "      <td>8252.272396</td>\n",
       "      <td>10.266667</td>\n",
       "      <td>19270.111328</td>\n",
       "      <td>249579.890625</td>\n",
       "      <td>32.0</td>\n",
       "      <td>31.0</td>\n",
       "      <td>248917.53125</td>\n",
       "      <td>8029.597782</td>\n",
       "      <td>11131.602539</td>\n",
       "      <td>9997.653646</td>\n",
       "      <td>8029.597782</td>\n",
       "      <td>8.0</td>\n",
       "      <td>89052.820312</td>\n",
       "      <td>7383.450195</td>\n",
       "      <td>17781.839844</td>\n",
       "      <td>3942.606209</td>\n",
       "      <td>8463.879883</td>\n",
       "      <td>12961.646484</td>\n",
       "      <td>24.0</td>\n",
       "      <td>239943.687500</td>\n",
       "      <td>5692.387695</td>\n",
       "      <td>19270.111328</td>\n",
       "      <td>3691.376580</td>\n",
       "      <td>7643.722656</td>\n",
       "      <td>11650.169922</td>\n",
       "      <td>31.0</td>\n",
       "      <td>248917.53125</td>\n",
       "      <td>725.835999</td>\n",
       "      <td>19270.111328</td>\n",
       "      <td>4926.378146</td>\n",
       "      <td>5744.994629</td>\n",
       "      <td>9920.898926</td>\n",
       "    </tr>\n",
       "    <tr>\n",
       "      <th>1</th>\n",
       "      <td>Art</td>\n",
       "      <td>0xmons-xyz</td>\n",
       "      <td>2021-03-02</td>\n",
       "      <td>36.0</td>\n",
       "      <td>30.0</td>\n",
       "      <td>248331.515625</td>\n",
       "      <td>8277.717188</td>\n",
       "      <td>10.933333</td>\n",
       "      <td>19270.111328</td>\n",
       "      <td>258073.718750</td>\n",
       "      <td>33.0</td>\n",
       "      <td>31.0</td>\n",
       "      <td>256685.53125</td>\n",
       "      <td>8280.178427</td>\n",
       "      <td>11567.482143</td>\n",
       "      <td>9937.500625</td>\n",
       "      <td>8280.178427</td>\n",
       "      <td>7.0</td>\n",
       "      <td>80972.375000</td>\n",
       "      <td>7383.450195</td>\n",
       "      <td>17781.839844</td>\n",
       "      <td>4041.556649</td>\n",
       "      <td>8705.011719</td>\n",
       "      <td>14109.772461</td>\n",
       "      <td>25.0</td>\n",
       "      <td>248437.515625</td>\n",
       "      <td>5692.387695</td>\n",
       "      <td>19270.111328</td>\n",
       "      <td>3626.149397</td>\n",
       "      <td>7730.479980</td>\n",
       "      <td>11595.719727</td>\n",
       "      <td>31.0</td>\n",
       "      <td>256685.53125</td>\n",
       "      <td>798.493530</td>\n",
       "      <td>19270.111328</td>\n",
       "      <td>4736.384404</td>\n",
       "      <td>5797.601562</td>\n",
       "      <td>9920.898926</td>\n",
       "    </tr>\n",
       "  </tbody>\n",
       "</table>\n",
       "</div>"
      ],
      "text/plain": [
       "  token_category collection_ID   report_dt  coll_owner_cumdcnt  \\\n",
       "0            Art    0xmons-xyz  2021-03-01                35.0   \n",
       "1            Art    0xmons-xyz  2021-03-02                36.0   \n",
       "\n",
       "   coll_token_dcnt  coll_token_sum_usd  coll_token_avg_latest_val_usd  \\\n",
       "0             30.0       247568.171875                    8252.272396   \n",
       "1             30.0       248331.515625                    8277.717188   \n",
       "\n",
       "   coll_token_avg_latest_trx_day  coll_trx_maxval_usd_max  \\\n",
       "0                      10.266667             19270.111328   \n",
       "1                      10.933333             19270.111328   \n",
       "\n",
       "   coll_trx_usd_csum_max  coll_trx_cnt_csum_max  coll_trx_cnt_dly_sum  \\\n",
       "0          249579.890625                   32.0                  31.0   \n",
       "1          258073.718750                   33.0                  31.0   \n",
       "\n",
       "   coll_trx_usd_dly_sum  coll_avg_price_dly  coll_avg_price_dly_ma7  \\\n",
       "0          248917.53125         8029.597782            11131.602539   \n",
       "1          256685.53125         8280.178427            11567.482143   \n",
       "\n",
       "   coll_avg_price_dly_ma14  coll_avg_price_dly_ma28  coll_trx_cnt_dly_ma7_sum  \\\n",
       "0              9997.653646              8029.597782                       8.0   \n",
       "1              9937.500625              8280.178427                       7.0   \n",
       "\n",
       "   coll_trx_usd_dly_ma7_sum  coll_trx_usd_dly_ma7_min  \\\n",
       "0              89052.820312               7383.450195   \n",
       "1              80972.375000               7383.450195   \n",
       "\n",
       "   coll_trx_usd_dly_ma7_max  coll_trx_usd_dly_ma7_std  \\\n",
       "0              17781.839844               3942.606209   \n",
       "1              17781.839844               4041.556649   \n",
       "\n",
       "   coll_trx_usd_dly_ma7_p25  coll_trx_usd_dly_ma7_p75  \\\n",
       "0               8463.879883              12961.646484   \n",
       "1               8705.011719              14109.772461   \n",
       "\n",
       "   coll_trx_cnt_dly_ma14_sum  coll_trx_usd_dly_ma14_sum  \\\n",
       "0                       24.0              239943.687500   \n",
       "1                       25.0              248437.515625   \n",
       "\n",
       "   coll_trx_usd_dly_ma14_min  coll_trx_usd_dly_ma14_max  \\\n",
       "0                5692.387695               19270.111328   \n",
       "1                5692.387695               19270.111328   \n",
       "\n",
       "   coll_trx_usd_dly_ma14_std  coll_trx_usd_dly_ma14_p25  \\\n",
       "0                3691.376580                7643.722656   \n",
       "1                3626.149397                7730.479980   \n",
       "\n",
       "   coll_trx_usd_dly_ma14_p75  coll_trx_cnt_dly_ma28_sum  \\\n",
       "0               11650.169922                       31.0   \n",
       "1               11595.719727                       31.0   \n",
       "\n",
       "   coll_trx_usd_dly_ma28_sum  coll_trx_usd_dly_ma28_min  \\\n",
       "0               248917.53125                 725.835999   \n",
       "1               256685.53125                 798.493530   \n",
       "\n",
       "   coll_trx_usd_dly_ma28_max  coll_trx_usd_dly_ma28_std  \\\n",
       "0               19270.111328                4926.378146   \n",
       "1               19270.111328                4736.384404   \n",
       "\n",
       "   coll_trx_usd_dly_ma28_p25  coll_trx_usd_dly_ma28_p75  \n",
       "0                5744.994629                9920.898926  \n",
       "1                5797.601562                9920.898926  "
      ]
     },
     "execution_count": 49,
     "metadata": {},
     "output_type": "execute_result"
    }
   ],
   "source": [
    "tmp_chk = pd.read_pickle(cf.PATH_03DM_main + 'collection_ts/art/coll_ts_202103.pickle')\n",
    "tmp_chk.head(2)"
   ]
  },
  {
   "cell_type": "code",
   "execution_count": 56,
   "metadata": {},
   "outputs": [
    {
     "name": "stdout",
     "output_type": "stream",
     "text": [
      "449\n",
      "611985.5625\n",
      "Beeple-special-edition\n"
     ]
    }
   ],
   "source": [
    "print(tmp_chk.collection_ID.nunique())\n",
    "# tmp_chk[tmp_chk.coll_avg_price_dly_ma7 < 5000].coll_avg_price_dly_ma7.plot(kind='hist')\n",
    "print(tmp_chk.coll_avg_price_dly_ma7.max())\n",
    "print(tmp_chk[tmp_chk.coll_avg_price_dly_ma7 == tmp_chk.coll_avg_price_dly_ma7.max()].iloc[0].collection_ID)"
   ]
  },
  {
   "cell_type": "code",
   "execution_count": 57,
   "metadata": {},
   "outputs": [
    {
     "data": {
      "text/html": [
       "<div>\n",
       "<style scoped>\n",
       "    .dataframe tbody tr th:only-of-type {\n",
       "        vertical-align: middle;\n",
       "    }\n",
       "\n",
       "    .dataframe tbody tr th {\n",
       "        vertical-align: top;\n",
       "    }\n",
       "\n",
       "    .dataframe thead th {\n",
       "        text-align: right;\n",
       "    }\n",
       "</style>\n",
       "<table border=\"1\" class=\"dataframe\">\n",
       "  <thead>\n",
       "    <tr style=\"text-align: right;\">\n",
       "      <th></th>\n",
       "      <th>collection_ID</th>\n",
       "      <th>token_ID</th>\n",
       "      <th>token_URL_latest</th>\n",
       "      <th>token_permanent_link</th>\n",
       "      <th>token_mint_crypto</th>\n",
       "      <th>token_mint_price_USD</th>\n",
       "      <th>token_mint_price_crypto</th>\n",
       "      <th>token_mint_address_est</th>\n",
       "      <th>token_mint_date_est</th>\n",
       "      <th>token_latest_sales_crypto</th>\n",
       "      <th>token_latest_sales_date</th>\n",
       "      <th>token_latest_price_USD</th>\n",
       "      <th>token_latest_price_crypto</th>\n",
       "      <th>token_collection_nm</th>\n",
       "      <th>token_name</th>\n",
       "      <th>token_description</th>\n",
       "      <th>token_category</th>\n",
       "      <th>token_ID_error</th>\n",
       "    </tr>\n",
       "  </thead>\n",
       "  <tbody>\n",
       "    <tr>\n",
       "      <th>0</th>\n",
       "      <td>Cryptokitties</td>\n",
       "      <td>Cryptokitties_1268119</td>\n",
       "      <td>https://lh3.googleusercontent.com/SWIgsdqj2cUc...</td>\n",
       "      <td>https://opensea.io/assets/0x06012c8cf97bead5de...</td>\n",
       "      <td>ETH</td>\n",
       "      <td>0.321473</td>\n",
       "      <td>0.001980</td>\n",
       "      <td>0xb367b96bd9af396dc5281cfdcd9e9571f670832f</td>\n",
       "      <td>2019-04-27 17:45:40</td>\n",
       "      <td>ETH</td>\n",
       "      <td>2021-04-12 17:25:55</td>\n",
       "      <td>19.363050</td>\n",
       "      <td>0.0090</td>\n",
       "      <td>Cryptokitties</td>\n",
       "      <td>I Miss You</td>\n",
       "      <td>Guten tag. I'm I Miss You, fairy princess of C...</td>\n",
       "      <td>Art</td>\n",
       "      <td>0</td>\n",
       "    </tr>\n",
       "    <tr>\n",
       "      <th>1</th>\n",
       "      <td>Cryptokitties</td>\n",
       "      <td>Cryptokitties_1434540</td>\n",
       "      <td>https://lh3.googleusercontent.com/7ILL0U1wFba7...</td>\n",
       "      <td>https://opensea.io/assets/0x06012c8cf97bead5de...</td>\n",
       "      <td>ETH</td>\n",
       "      <td>0.402917</td>\n",
       "      <td>0.001487</td>\n",
       "      <td>0xfc624f8f58db41bdb95aedee1de3c1cf047105f1</td>\n",
       "      <td>2019-03-10 03:11:34</td>\n",
       "      <td>WETH</td>\n",
       "      <td>2021-04-10 11:55:04</td>\n",
       "      <td>56.558319</td>\n",
       "      <td>0.0273</td>\n",
       "      <td>Cryptokitties</td>\n",
       "      <td>Lieutenant Bippitynose</td>\n",
       "      <td>Oh heyyy. I'm Lieutenant Bippitynose. Are you ...</td>\n",
       "      <td>Art</td>\n",
       "      <td>0</td>\n",
       "    </tr>\n",
       "  </tbody>\n",
       "</table>\n",
       "</div>"
      ],
      "text/plain": [
       "   collection_ID               token_ID  \\\n",
       "0  Cryptokitties  Cryptokitties_1268119   \n",
       "1  Cryptokitties  Cryptokitties_1434540   \n",
       "\n",
       "                                    token_URL_latest  \\\n",
       "0  https://lh3.googleusercontent.com/SWIgsdqj2cUc...   \n",
       "1  https://lh3.googleusercontent.com/7ILL0U1wFba7...   \n",
       "\n",
       "                                token_permanent_link token_mint_crypto  \\\n",
       "0  https://opensea.io/assets/0x06012c8cf97bead5de...               ETH   \n",
       "1  https://opensea.io/assets/0x06012c8cf97bead5de...               ETH   \n",
       "\n",
       "   token_mint_price_USD  token_mint_price_crypto  \\\n",
       "0              0.321473                 0.001980   \n",
       "1              0.402917                 0.001487   \n",
       "\n",
       "                       token_mint_address_est token_mint_date_est  \\\n",
       "0  0xb367b96bd9af396dc5281cfdcd9e9571f670832f 2019-04-27 17:45:40   \n",
       "1  0xfc624f8f58db41bdb95aedee1de3c1cf047105f1 2019-03-10 03:11:34   \n",
       "\n",
       "  token_latest_sales_crypto token_latest_sales_date  token_latest_price_USD  \\\n",
       "0                       ETH     2021-04-12 17:25:55               19.363050   \n",
       "1                      WETH     2021-04-10 11:55:04               56.558319   \n",
       "\n",
       "   token_latest_price_crypto token_collection_nm              token_name  \\\n",
       "0                     0.0090       Cryptokitties              I Miss You   \n",
       "1                     0.0273       Cryptokitties  Lieutenant Bippitynose   \n",
       "\n",
       "                                   token_description token_category  \\\n",
       "0  Guten tag. I'm I Miss You, fairy princess of C...            Art   \n",
       "1  Oh heyyy. I'm Lieutenant Bippitynose. Are you ...            Art   \n",
       "\n",
       "   token_ID_error  \n",
       "0               0  \n",
       "1               0  "
      ]
     },
     "execution_count": 57,
     "metadata": {},
     "output_type": "execute_result"
    }
   ],
   "source": [
    "pdf_nft_master = pd.read_pickle(cf.PATH_02NDS_main + '/tokens/token_master_art.pickle')\n",
    "pdf_nft_master.head(2)"
   ]
  },
  {
   "cell_type": "code",
   "execution_count": 61,
   "metadata": {},
   "outputs": [
    {
     "data": {
      "text/plain": [
       "'https://lh3.googleusercontent.com/79JB1V9gSMv83iMs-Db4qdpPVdpKiyt_sjGLgs575wLEgWjSRLCzMQMoxaealYz7AVCKY_mzSy6GlOYdGt_7aaCZfg=s128'"
      ]
     },
     "execution_count": 61,
     "metadata": {},
     "output_type": "execute_result"
    }
   ],
   "source": [
    "pdf_nft_master[pdf_nft_master.token_ID == 'Beeple-special-edition_100030062'].iloc[0].token_URL_latest"
   ]
  },
  {
   "cell_type": "code",
   "execution_count": 69,
   "metadata": {},
   "outputs": [],
   "source": [
    "aaa = list(tmp_chk.collection_ID.to_list())\n"
   ]
  },
  {
   "cell_type": "code",
   "execution_count": 113,
   "metadata": {},
   "outputs": [],
   "source": [
    "# It is still like an error...\n",
    "# pdf_chk[(pdf_chk.token_ID == 'Rarible_37408') & (pdf_chk.trx_duplication_flg == 0)].sort_values(by='trx_time_sec')"
   ]
  },
  {
   "cell_type": "code",
   "execution_count": 21,
   "metadata": {},
   "outputs": [
    {
     "data": {
      "text/plain": [
       "Timestamp('2021-02-01 08:01:48')"
      ]
     },
     "execution_count": 21,
     "metadata": {},
     "output_type": "execute_result"
    }
   ],
   "source": [
    "#pdf_tokenchk = pd.read_pickle(cf.PATH_02NDS_main + 'tokens/token_master_art.pickle')\n",
    "pdf_tokenchk[pdf_tokenchk.collection_ID == '0xmons-xyz'].token_mint_date_est.min() #.token_permanent_link.iloc[0]"
   ]
  },
  {
   "cell_type": "code",
   "execution_count": 72,
   "metadata": {},
   "outputs": [
    {
     "data": {
      "text/plain": [
       "1.0"
      ]
     },
     "execution_count": 72,
     "metadata": {},
     "output_type": "execute_result"
    }
   ],
   "source": [
    "date_1 = pdf_chk[pdf_chk.token_ID == 'Cryptokitties_560458'].iloc[1].trx_time_sec\n",
    "date_2 = pdf_chk[pdf_chk.token_ID == 'Cryptokitties_560458'].iloc[3].trx_time_sec\n",
    "float((date_2 - date_1).days)"
   ]
  },
  {
   "cell_type": "code",
   "execution_count": 94,
   "metadata": {},
   "outputs": [
    {
     "data": {
      "text/plain": [
       "[201710, 201711, 201712, 201801, 201802, 201803]"
      ]
     },
     "execution_count": 94,
     "metadata": {},
     "output_type": "execute_result"
    }
   ],
   "source": [
    "edm._monat_list_creator(['201711', '201803'])"
   ]
  },
  {
   "cell_type": "code",
   "execution_count": null,
   "metadata": {},
   "outputs": [],
   "source": []
  },
  {
   "cell_type": "code",
   "execution_count": null,
   "metadata": {},
   "outputs": [],
   "source": []
  },
  {
   "cell_type": "code",
   "execution_count": null,
   "metadata": {},
   "outputs": [],
   "source": []
  },
  {
   "cell_type": "code",
   "execution_count": null,
   "metadata": {},
   "outputs": [],
   "source": []
  },
  {
   "cell_type": "code",
   "execution_count": null,
   "metadata": {},
   "outputs": [],
   "source": []
  },
  {
   "cell_type": "code",
   "execution_count": null,
   "metadata": {},
   "outputs": [],
   "source": []
  },
  {
   "cell_type": "code",
   "execution_count": null,
   "metadata": {},
   "outputs": [],
   "source": []
  },
  {
   "cell_type": "code",
   "execution_count": null,
   "metadata": {},
   "outputs": [],
   "source": []
  }
 ],
 "metadata": {
  "interpreter": {
   "hash": "7a6613bf63225e9394175f1e2a262c6dd4ee2ff1bd210ad1657e6dcd2c752f3b"
  },
  "kernelspec": {
   "display_name": "Python 3.10.0 64-bit",
   "language": "python",
   "name": "python3"
  },
  "language_info": {
   "codemirror_mode": {
    "name": "ipython",
    "version": 3
   },
   "file_extension": ".py",
   "mimetype": "text/x-python",
   "name": "python",
   "nbconvert_exporter": "python",
   "pygments_lexer": "ipython3",
   "version": "3.10.0"
  },
  "orig_nbformat": 4
 },
 "nbformat": 4,
 "nbformat_minor": 2
}
